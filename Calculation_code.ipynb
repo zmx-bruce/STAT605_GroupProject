{
 "cells": [
  {
   "cell_type": "code",
   "execution_count": 37,
   "metadata": {},
   "outputs": [],
   "source": [
    "import networkx as nx\n",
    "import json\n",
    "import numpy as np\n",
    "import random \n",
    "import pandas as pd\n",
    "import sys\n",
    "import itertools\n",
    "import pickle\n",
    "import time\n",
    "import seaborn as sns\n",
    "import matplotlib.pyplot as plt "
   ]
  },
  {
   "cell_type": "markdown",
   "metadata": {},
   "source": [
    "# Define Subgraph\n",
    "## 3-node-subgraph: M3_1, M3_2:\n"
   ]
  },
  {
   "cell_type": "code",
   "execution_count": 38,
   "metadata": {},
   "outputs": [],
   "source": [
    "motifs = {\n",
    "    'M3_1': nx.Graph([(1,2),(2,3)]),\n",
    "    'M3_2': nx.Graph([(1,2),(1,3),(2,3)]),}"
   ]
  },
  {
   "cell_type": "markdown",
   "metadata": {},
   "source": [
    "# Load in the network datasets"
   ]
  },
  {
   "cell_type": "code",
   "execution_count": 39,
   "metadata": {},
   "outputs": [],
   "source": [
    "label=pd.read_csv(\"reddit_threads/reddit_target.csv\")\n",
    "with open(\"reddit_threads/reddit_edges.json\", 'rb') as f:\n",
    "    data= json.load(f)"
   ]
  },
  {
   "cell_type": "markdown",
   "metadata": {},
   "source": [
    "### An Example of a network"
   ]
  },
  {
   "cell_type": "code",
   "execution_count": 40,
   "metadata": {
    "scrolled": true
   },
   "outputs": [
    {
     "data": {
      "text/plain": [
       "[[0, 2],\n",
       " [1, 5],\n",
       " [2, 4],\n",
       " [2, 5],\n",
       " [2, 6],\n",
       " [2, 7],\n",
       " [2, 8],\n",
       " [2, 9],\n",
       " [2, 10],\n",
       " [3, 8]]"
      ]
     },
     "execution_count": 40,
     "metadata": {},
     "output_type": "execute_result"
    }
   ],
   "source": [
    "#data is a list of dictionaries, key from 0 to 203087\n",
    "data['0']"
   ]
  },
  {
   "cell_type": "markdown",
   "metadata": {},
   "source": [
    "### We  use Network ID:30 edges to construct a network G"
   ]
  },
  {
   "cell_type": "code",
   "execution_count": 41,
   "metadata": {},
   "outputs": [
    {
     "name": "stdout",
     "output_type": "stream",
     "text": [
      "Name: \n",
      "Type: Graph\n",
      "Number of nodes: 76\n",
      "Number of edges: 78\n",
      "Average degree:   2.0526\n"
     ]
    }
   ],
   "source": [
    "G=nx.from_edgelist(data['30'])\n",
    "print(nx.info(G))"
   ]
  },
  {
   "cell_type": "markdown",
   "metadata": {},
   "source": [
    "# Now we show an example of how to calculate the density of 3-node subgraphs in a network G"
   ]
  },
  {
   "cell_type": "code",
   "execution_count": 42,
   "metadata": {},
   "outputs": [
    {
     "name": "stdout",
     "output_type": "stream",
     "text": [
      "number of type_1 3-node subgraph(open triangular): 1101\n",
      "number of type_2 3-node subgraph(closed triangular): 1\n",
      "[9.99092559e-01 9.07441016e-04]\n",
      "calculation time: 2.637723922729492\n"
     ]
    }
   ],
   "source": [
    "\n",
    "start=time.time()\n",
    "m3_1=0;m3_2=0\n",
    "for sub_nodes in itertools.combinations(G.nodes(),3):# choose 3 from n, where n is number of nodes of network\n",
    "    subg = G.subgraph(sub_nodes)\n",
    "    if nx.is_connected(subg):\n",
    "        if nx.is_isomorphic(subg, motifs['M3_1']):\n",
    "            m3_1+=1\n",
    "        if nx.is_isomorphic(subg, motifs['M3_2']):\n",
    "            m3_2+=1\n",
    "print(\"number of type_1 3-node subgraph(open triangular):\",m3_1)\n",
    "print(\"number of type_2 3-node subgraph(closed triangular):\",m3_2)\n",
    "s_3=m3_1+m3_2#calculate total number of above two types of 3-node subgraphs, and normalize with the number to get density\n",
    "density=np.array([m3_1/s_3,m3_2/s_3])\n",
    "end=time.time()\n",
    "print(density)\n",
    "print(\"calculation time:\",end-start)\n"
   ]
  },
  {
   "cell_type": "markdown",
   "metadata": {},
   "source": [
    "## So with more than 20k networks in total, it takes a extensive computation and time to finish the calculation, but with the help of CHTC, we could greatly reduce this time consupmtion."
   ]
  }
 ],
 "metadata": {
  "kernelspec": {
   "display_name": "Python 3",
   "language": "python",
   "name": "python3"
  },
  "language_info": {
   "codemirror_mode": {
    "name": "ipython",
    "version": 3
   },
   "file_extension": ".py",
   "mimetype": "text/x-python",
   "name": "python",
   "nbconvert_exporter": "python",
   "pygments_lexer": "ipython3",
   "version": "3.8.3"
  }
 },
 "nbformat": 4,
 "nbformat_minor": 4
}
