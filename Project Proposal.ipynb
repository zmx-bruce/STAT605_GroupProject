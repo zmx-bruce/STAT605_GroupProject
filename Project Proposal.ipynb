{
 "cells": [
  {
   "cell_type": "code",
   "execution_count": 1,
   "metadata": {},
   "outputs": [],
   "source": [
    "import networkx as nx\n",
    "import json\n",
    "import numpy as np\n",
    "import random \n",
    "import pandas as pd\n",
    "import sys\n",
    "import itertools\n",
    "import pickle\n",
    "import time\n",
    "import seaborn as sns\n",
    "import matplotlib.pyplot as plt "
   ]
  },
  {
   "cell_type": "markdown",
   "metadata": {},
   "source": [
    "# Github Link: https://github.com/zmx-bruce/STAT605_GroupProject"
   ]
  },
  {
   "cell_type": "markdown",
   "metadata": {},
   "source": [
    "## Code to load in data"
   ]
  },
  {
   "cell_type": "code",
   "execution_count": 6,
   "metadata": {},
   "outputs": [
    {
     "name": "stdout",
     "output_type": "stream",
     "text": [
      "data contain 203088 networks\n"
     ]
    }
   ],
   "source": [
    "label=pd.read_csv(\"reddit_threads/reddit_target.csv\")\n",
    "with open(\"reddit_threads/reddit_edges.json\", 'rb') as f:\n",
    "    data= json.load(f)\n",
    "print(f\"data contain {len(data)} networks\")"
   ]
  },
  {
   "cell_type": "markdown",
   "metadata": {},
   "source": [
    "### An example of loaded network"
   ]
  },
  {
   "cell_type": "code",
   "execution_count": 5,
   "metadata": {},
   "outputs": [
    {
     "name": "stdout",
     "output_type": "stream",
     "text": [
      "Name: \n",
      "Type: Graph\n",
      "Number of nodes: 11\n",
      "Number of edges: 10\n",
      "Average degree:   1.8182\n"
     ]
    }
   ],
   "source": [
    "G=nx.from_edgelist(data['0'])\n",
    "print(nx.info(G))"
   ]
  },
  {
   "cell_type": "markdown",
   "metadata": {},
   "source": [
    "## Descriptions of data and variables\n",
    "\n",
    "Our datasets contain 203088 networks, each network is labeled with 0 or 1.\n",
    "This network classification dataset does not like normal matrix form datasets that have multiple observations and variables. Here our observations are networks. We could take network statistics as our variables.\n",
    "\n",
    "Based on the descriptions of datasets, network number of nodes ranges from 11 to 97, network density ranges from 0.021 to 0.382, network diameter ranges from 2 to 27."
   ]
  },
  {
   "cell_type": "markdown",
   "metadata": {},
   "source": [
    "## Statistical methods\n",
    "\n",
    "Our major statistical methods is hypothesis testing. To be more specific, we are going to use two sample hypothesis testing to test whether networks with different labels have different structure in terms of 3-node connected subgraph density.\n"
   ]
  },
  {
   "cell_type": "markdown",
   "metadata": {},
   "source": [
    "## Computational steps \n",
    "\n",
    "Here we give an example of our computation in one network\n",
    "\n",
    "1. We first define our 3-node subgraph structure.\n",
    "2. Then we choose 3 from n number of nodes of a network, and check if these 3 nodes have the same structure with our target subgraph.\n",
    "\n",
    "The example suggests that it takes about 2 second to complete the calculation on one single network (time depends on number of nodes). So with more than 200k networks in total, even it only takes 0.3 second for one network on average, in total it will take more than 15 hours to run on a local computer. \n",
    "\n",
    "So we plan to split job into 1000 parallel tasks on CHTC, for each task we calculate 200 networks. Ideally, this would save our time for 1000 times. It only takes 1 minute to complete all the calculation. "
   ]
  },
  {
   "cell_type": "code",
   "execution_count": 14,
   "metadata": {},
   "outputs": [
    {
     "name": "stdout",
     "output_type": "stream",
     "text": [
      "number of type_1 3-node subgraph(open triangular): 1101\n",
      "number of type_2 3-node subgraph(closed triangular): 1\n",
      "calculation time: 1.9901082515716553\n"
     ]
    }
   ],
   "source": [
    "motifs = {\n",
    "'M3_1': nx.Graph([(1,2),(2,3)]),\n",
    "'M3_2': nx.Graph([(1,2),(1,3),(2,3)]),}\n",
    "\n",
    "G=nx.from_edgelist(data['30'])\n",
    "\n",
    "start=time.time()\n",
    "m3_1=0;m3_2=0\n",
    "for sub_nodes in itertools.combinations(G.nodes(),3):# choose 3 from n, where n is number of nodes of network\n",
    "    subg = G.subgraph(sub_nodes)\n",
    "    if nx.is_connected(subg):\n",
    "        if nx.is_isomorphic(subg, motifs['M3_1']):\n",
    "            m3_1+=1\n",
    "        if nx.is_isomorphic(subg, motifs['M3_2']):\n",
    "            m3_2+=1\n",
    "print(\"number of type_1 3-node subgraph(open triangular):\",m3_1)\n",
    "print(\"number of type_2 3-node subgraph(closed triangular):\",m3_2)\n",
    "end=time.time()\n",
    "print(\"calculation time:\",end-start)\n"
   ]
  }
 ],
 "metadata": {
  "kernelspec": {
   "display_name": "Python 3",
   "language": "python",
   "name": "python3"
  },
  "language_info": {
   "codemirror_mode": {
    "name": "ipython",
    "version": 3
   },
   "file_extension": ".py",
   "mimetype": "text/x-python",
   "name": "python",
   "nbconvert_exporter": "python",
   "pygments_lexer": "ipython3",
   "version": "3.8.3"
  }
 },
 "nbformat": 4,
 "nbformat_minor": 4
}
